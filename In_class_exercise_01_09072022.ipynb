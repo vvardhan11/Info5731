{
  "cells": [
    {
      "cell_type": "markdown",
      "metadata": {
        "id": "view-in-github",
        "colab_type": "text"
      },
      "source": [
        "<a href=\"https://colab.research.google.com/github/vvardhan11/Info5731/blob/main/In_class_exercise_01_09072022.ipynb\" target=\"_parent\"><img src=\"https://colab.research.google.com/assets/colab-badge.svg\" alt=\"Open In Colab\"/></a>"
      ]
    },
    {
      "cell_type": "markdown",
      "metadata": {
        "id": "DymRJbxDBCnf"
      },
      "source": [
        "# **The first In-class-exercise (09/07/2022, 40 points in total)**"
      ]
    },
    {
      "cell_type": "markdown",
      "metadata": {
        "id": "03jb4GZsBkBS"
      },
      "source": [
        "(1) Write a Python program to calculate the length of a string. (4 points)"
      ]
    },
    {
      "cell_type": "code",
      "execution_count": null,
      "metadata": {
        "colab": {
          "base_uri": "https://localhost:8080/"
        },
        "id": "YaGLbSHHB8Ej",
        "outputId": "5190fa14-8921-45f7-b227-ae254eb0f531"
      },
      "outputs": [
        {
          "output_type": "stream",
          "name": "stdout",
          "text": [
            "Enter a string: computational methods\n",
            "Length of the string is: 21\n"
          ]
        }
      ],
      "source": [
        "# write your answer here\n",
        "input_string = str(input(\"Enter a string: \"))\n",
        "\n",
        "lenght = 0\n",
        "\n",
        "for i in input_string:\n",
        "      lenght = lenght+1\n",
        "print(\"Length of the string is:\", lenght)"
      ]
    },
    {
      "cell_type": "markdown",
      "metadata": {
        "id": "jJDe71iLB616"
      },
      "source": [
        "(2) Write a Python program to count the number of characters in a string. (4 points)\n",
        "\n",
        "Sample String : 'google.com‘, \n",
        "\n",
        "Expected Result : {'o': 3, 'g': 2, '.': 1, 'e': 1, 'l': 1, 'm': 1, 'c': 1}"
      ]
    },
    {
      "cell_type": "code",
      "execution_count": null,
      "metadata": {
        "colab": {
          "base_uri": "https://localhost:8080/"
        },
        "id": "MtKskTzbCLaU",
        "outputId": "34cba14b-1724-4045-8c26-1d7219221529"
      },
      "outputs": [
        {
          "output_type": "stream",
          "name": "stdout",
          "text": [
            "Enter a string: computational methods\n",
            "{'c': 1, 'o': 3, 'm': 2, 'p': 1, 'u': 1, 't': 3, 'a': 2, 'i': 1, 'n': 1, 'l': 1, ' ': 1, 'e': 1, 'h': 1, 'd': 1, 's': 1}\n"
          ]
        }
      ],
      "source": [
        "# write your answer here\n",
        "input_string = input(\"Enter a string: \")\n",
        "d = dict()\n",
        "for i in input_string:\n",
        "  if i in d:\n",
        "    d[i]=d[i]+1\n",
        "  else:\n",
        "    d[i]=1\n",
        "print(d)"
      ]
    },
    {
      "cell_type": "markdown",
      "metadata": {
        "id": "55W9AMdXCSpV"
      },
      "source": [
        "(3) Write a Python program to sum all the items in a list. (4 points)"
      ]
    },
    {
      "cell_type": "code",
      "execution_count": null,
      "metadata": {
        "colab": {
          "base_uri": "https://localhost:8080/"
        },
        "id": "I57NXsauCec2",
        "outputId": "b87a1f43-d0d8-4cbe-b2b7-dc54180fa599"
      },
      "outputs": [
        {
          "output_type": "stream",
          "name": "stdout",
          "text": [
            "Enter a size of list: 4\n",
            "enter number1\n",
            "enter number2\n",
            "enter number3\n",
            "enter number4\n",
            "Sum of all elements in the list:  10\n"
          ]
        }
      ],
      "source": [
        "# write your answer here\n",
        "n= int(input(\"Enter a size of list: \"))\n",
        "lista = []\n",
        "for i in range(0,n):\n",
        "  lista.append(int(input(\"enter number\")))\n",
        "\n",
        "total = sum(lista)\n",
        "\n",
        "print(\"Sum of all elements in the list: \", total)"
      ]
    },
    {
      "cell_type": "markdown",
      "metadata": {
        "id": "4ulBZ6yhCi9F"
      },
      "source": [
        "(4) Write a Python program to get a string from a given string where all occurrences of its first char have been changed to '\\$', except the first char itself. (4 points)\n",
        "\n",
        "Sample String : 'restart‘, \n",
        "\n",
        "Expected Result : 'resta\\$t'"
      ]
    },
    {
      "cell_type": "code",
      "execution_count": null,
      "metadata": {
        "colab": {
          "base_uri": "https://localhost:8080/"
        },
        "id": "Fj0XhwbBCw2o",
        "outputId": "73840b02-de21-4a4d-82de-319df231efc4"
      },
      "outputs": [
        {
          "output_type": "stream",
          "name": "stdout",
          "text": [
            "Enter a string: restart\n",
            "resta$t\n"
          ]
        }
      ],
      "source": [
        "# write your answer here\n",
        "def input_string(str):\n",
        "  first_char = str[0]\n",
        "  new_string = str[1:].replace(first_char,'$')\n",
        "  return first_char+new_string\n",
        "\n",
        "print(input_string(input(\"Enter a string: \")))"
      ]
    },
    {
      "cell_type": "markdown",
      "metadata": {
        "id": "_bIP7s1MCzue"
      },
      "source": [
        "(5) Write a program with python which could accept two parameter a and b to calculate and output the result of S, where \n",
        "\n",
        "$\\ S=3.14*(1+a/b)^3$ (4 points)\n",
        "\n"
      ]
    },
    {
      "cell_type": "code",
      "execution_count": null,
      "metadata": {
        "id": "w79QilHXD3Mg",
        "colab": {
          "base_uri": "https://localhost:8080/"
        },
        "outputId": "ce6f2c16-eb9d-4b0a-8295-baa0314ce543"
      },
      "outputs": [
        {
          "output_type": "stream",
          "name": "stdout",
          "text": [
            "enter a:4\n",
            "enter b:5\n",
            "18.312480000000004\n"
          ]
        }
      ],
      "source": [
        "# write your answer here\n",
        "def calculate(a,b):\n",
        "  if b==0:\n",
        "    print(\"enter number other than 0\")\n",
        "  else:\n",
        "    return 3.14*((1+a/b)**3)\n",
        "a = float(input(\"enter a:\"))\n",
        "b = float(input(\"enter b:\"))\n",
        "print(calculate(a,b))"
      ]
    },
    {
      "cell_type": "markdown",
      "metadata": {
        "id": "xCa2bK9aD4Q3"
      },
      "source": [
        "(6) Write a Python program to concatenate following dictionaries to create a new one. (4 points)\n",
        "\n",
        "Sample Dictionary : dic1={1:10, 2:20}, dic2={3:30, 4:40}, dic3={5:50,6:60}, \n",
        "\n",
        "Expected Result : {1: 10, 2: 20, 3: 30, 4: 40, 5: 50, 6: 60}\n"
      ]
    },
    {
      "cell_type": "code",
      "execution_count": null,
      "metadata": {
        "id": "_z4aLqAbEET1",
        "colab": {
          "base_uri": "https://localhost:8080/"
        },
        "outputId": "603e0133-f019-4610-e98f-d71ac8584966"
      },
      "outputs": [
        {
          "output_type": "stream",
          "name": "stdout",
          "text": [
            "concatenated dictonary =  {1: 10, 2: 20, 3: 20, 4: 40, 5: 50, 6: 60}\n"
          ]
        }
      ],
      "source": [
        "# write your answer here\n",
        "dic1 = {1:10,2:20}\n",
        "dic2 = {3:20,4:40}\n",
        "dic3 = {5:50,6:60}\n",
        "\n",
        "dic4 = {}\n",
        "\n",
        "for i in (dic1,dic2,dic3):\n",
        "  dic4.update(i)\n",
        "print(\"concatenated dictonary = \",dic4)"
      ]
    },
    {
      "cell_type": "markdown",
      "metadata": {
        "id": "0v48Vqa7FrQh"
      },
      "source": [
        "(7) Write a Python program to check whether an element exists within a tuple. (4 points)"
      ]
    },
    {
      "cell_type": "code",
      "execution_count": null,
      "metadata": {
        "id": "7WEmgq-DF2P1",
        "colab": {
          "base_uri": "https://localhost:8080/"
        },
        "outputId": "87cb0e6a-5f0e-4396-fee7-e20dbd4710db"
      },
      "outputs": [
        {
          "output_type": "stream",
          "name": "stdout",
          "text": [
            "False\n",
            "True\n"
          ]
        }
      ],
      "source": [
        "# write your answer here\n",
        "tuple1 = (\"sunny\",1,9,\"dog\",\"ranger\")\n",
        "print(2 in tuple1)\n",
        "print(\"ranger\" in tuple1)"
      ]
    },
    {
      "cell_type": "markdown",
      "metadata": {
        "id": "vD5PYLMuGga_"
      },
      "source": [
        "(8) Write a Python program to find maximum and the minimum value in a set. (4 points)"
      ]
    },
    {
      "cell_type": "code",
      "execution_count": null,
      "metadata": {
        "id": "t0D5kdJUGjjw",
        "colab": {
          "base_uri": "https://localhost:8080/"
        },
        "outputId": "1bba39f8-0966-47e4-84de-f12cb5908652"
      },
      "outputs": [
        {
          "output_type": "stream",
          "name": "stdout",
          "text": [
            "45\n",
            "-1\n"
          ]
        }
      ],
      "source": [
        "# write your answer here\n",
        "set1 = ([1,6,9,45,-1,41,0])\n",
        "print(max(set1)) \n",
        "print(min(set1))"
      ]
    },
    {
      "cell_type": "markdown",
      "metadata": {
        "id": "uHkd-y5VhVWC"
      },
      "source": [
        "(9) Write a Python program to randomly divide the students in this class into six groups for term projects, each group should have at least 4 students but no more than 6 students (including 6). Here is the students list: (4 points)\n",
        "\n",
        "studnet_list = ['ja0964','sa1198','sb1357','vb0218','sc1229','kg0569','kg0470','sg1297','bg0320','fh0141','jl1252','sk1386',\n",
        "           'ak0956','sk1390','sk1458','sk1313','ak0934','vm0377','nm0618','sm1640','sm1907','gn0108','pr0353','dr0609','ms1500','aos0040','ds0814', 'av0659','nv0234','hy0232']"
      ]
    },
    {
      "cell_type": "code",
      "execution_count": 99,
      "metadata": {
        "id": "3iGbmcOBhTwy",
        "colab": {
          "base_uri": "https://localhost:8080/",
          "height": 340
        },
        "outputId": "46ad96f2-9b17-4b21-d5dd-0084505c8828"
      },
      "outputs": [
        {
          "output_type": "stream",
          "name": "stdout",
          "text": [
            "[5, 6, 5, 4, 6, 5]\n"
          ]
        },
        {
          "output_type": "error",
          "ename": "TypeError",
          "evalue": "ignored",
          "traceback": [
            "\u001b[0;31m---------------------------------------------------------------------------\u001b[0m",
            "\u001b[0;31mTypeError\u001b[0m                                 Traceback (most recent call last)",
            "\u001b[0;32m<ipython-input-99-774a84573da2>\u001b[0m in \u001b[0;36m<module>\u001b[0;34m\u001b[0m\n\u001b[1;32m     12\u001b[0m \u001b[0miterate_List\u001b[0m \u001b[0;34m=\u001b[0m \u001b[0miter\u001b[0m\u001b[0;34m(\u001b[0m\u001b[0mstudent_list\u001b[0m\u001b[0;34m)\u001b[0m\u001b[0;34m\u001b[0m\u001b[0;34m\u001b[0m\u001b[0m\n\u001b[1;32m     13\u001b[0m group_list = [list(islice(iterate_List, elem))\n\u001b[0;32m---> 14\u001b[0;31m           for elem in group_len]\n\u001b[0m\u001b[1;32m     15\u001b[0m \u001b[0mgroup_len\u001b[0m\u001b[0;34m,\u001b[0m \u001b[0mgroup_list\u001b[0m\u001b[0;34m\u001b[0m\u001b[0;34m\u001b[0m\u001b[0m\n",
            "\u001b[0;32m<ipython-input-99-774a84573da2>\u001b[0m in \u001b[0;36m<listcomp>\u001b[0;34m(.0)\u001b[0m\n\u001b[1;32m     12\u001b[0m \u001b[0miterate_List\u001b[0m \u001b[0;34m=\u001b[0m \u001b[0miter\u001b[0m\u001b[0;34m(\u001b[0m\u001b[0mstudent_list\u001b[0m\u001b[0;34m)\u001b[0m\u001b[0;34m\u001b[0m\u001b[0;34m\u001b[0m\u001b[0m\n\u001b[1;32m     13\u001b[0m group_list = [list(islice(iterate_List, elem))\n\u001b[0;32m---> 14\u001b[0;31m           for elem in group_len]\n\u001b[0m\u001b[1;32m     15\u001b[0m \u001b[0mgroup_len\u001b[0m\u001b[0;34m,\u001b[0m \u001b[0mgroup_list\u001b[0m\u001b[0;34m\u001b[0m\u001b[0;34m\u001b[0m\u001b[0m\n",
            "\u001b[0;31mTypeError\u001b[0m: 'list' object is not callable"
          ]
        }
      ],
      "source": [
        "# write your answer here\n",
        "import random\n",
        "from itertools import islice\n",
        "student_list = ['vmb0067','pc0353','snd0097','yye0005','sg0940','bk0301','rak0120','rrk0058','spk0057','vl0135','nm0547'\n",
        "                 ,'pn0159', 'msp0174','dd0420','ds0761','rs0850','ss1995','at0739','at0768','mv0299','tv0119','dy0091',\n",
        "                 'py0080','ttp0037','hc0439','ri0094','pk0339', 'hn0145','mn0426']\n",
        "group_len = []\n",
        "for i in range(6):\n",
        "    group_len.append(random.randint(4,6))\n",
        "print(group_len)\n",
        "random.shuffle(student_list)\n",
        "iterate_List = iter(student_list)\n",
        "group_list = [list(islice(iterate_List, elem))\n",
        "          for elem in group_len]\n",
        "group_len, group_list"
      ]
    },
    {
      "cell_type": "markdown",
      "metadata": {
        "id": "aqH3V39A69q4"
      },
      "source": [
        "(10) Write a Python program to find the duplicate elements in a given array of integers. Return -1 If there are no such elements. (4 points)"
      ]
    },
    {
      "cell_type": "code",
      "execution_count": null,
      "metadata": {
        "id": "_JtfaTgD69q6",
        "colab": {
          "base_uri": "https://localhost:8080/"
        },
        "outputId": "03391ee3-4df2-4488-b018-764866c02012"
      },
      "outputs": [
        {
          "output_type": "stream",
          "name": "stdout",
          "text": [
            "Enter a size of list: 5\n",
            "enter number1\n",
            "enter number2\n",
            "enter number3\n",
            "enter number4\n",
            "enter number5\n",
            "Counter({1: 1, 2: 1, 3: 1, 4: 1, 5: 1})\n",
            "No duplicates found.Hence retuening -1\n"
          ]
        }
      ],
      "source": [
        "# write your answer here\n",
        "from collections import Counter\n",
        " \n",
        "n= int(input(\"Enter a size of list: \"))\n",
        "lista = []\n",
        "for i in range(0,n):\n",
        "  lista.append(int(input(\"enter number\")))\n",
        "\n",
        "d = Counter(lista)\n",
        "print(d)\n",
        " \n",
        "new_list = [item for item in d if d[item]>1]\n",
        "if new_list==[]:\n",
        "  print(\"No duplicates found.Hence returning\",-1)\n",
        "else:\n",
        "  print(\"Dupliacte elements are \",new_list)"
      ]
    },
    {
      "cell_type": "markdown",
      "metadata": {
        "id": "qbQa12E769q8"
      },
      "source": [
        "(11) Write a Python program to select all the Sundays of a specified year. (4 extra points)"
      ]
    },
    {
      "cell_type": "code",
      "execution_count": null,
      "metadata": {
        "id": "Vf6Wm4ct69q9",
        "colab": {
          "base_uri": "https://localhost:8080/"
        },
        "outputId": "369ed61d-6bc7-4aab-d5e4-4d66ddd3fcb6"
      },
      "outputs": [
        {
          "output_type": "stream",
          "name": "stdout",
          "text": [
            "Sunday,2-5-2022\n",
            "Sunday,9-5-2022\n",
            "Sunday,16-5-2022\n",
            "Sunday,23-5-2022\n",
            "Sunday,30-5-2022\n",
            "Sunday,6-5-2022\n",
            "Sunday,13-5-2022\n",
            "Sunday,20-5-2022\n",
            "Sunday,27-5-2022\n",
            "Sunday,6-5-2022\n",
            "Sunday,13-5-2022\n",
            "Sunday,20-5-2022\n",
            "Sunday,27-5-2022\n",
            "Sunday,3-5-2022\n",
            "Sunday,10-5-2022\n",
            "Sunday,17-5-2022\n",
            "Sunday,24-5-2022\n",
            "Sunday,1-5-2022\n",
            "Sunday,8-5-2022\n",
            "Sunday,15-5-2022\n",
            "Sunday,22-5-2022\n",
            "Sunday,29-5-2022\n",
            "Sunday,5-5-2022\n",
            "Sunday,12-5-2022\n",
            "Sunday,19-5-2022\n",
            "Sunday,26-5-2022\n",
            "Sunday,3-5-2022\n",
            "Sunday,10-5-2022\n",
            "Sunday,17-5-2022\n",
            "Sunday,24-5-2022\n",
            "Sunday,31-5-2022\n",
            "Sunday,7-5-2022\n",
            "Sunday,14-5-2022\n",
            "Sunday,21-5-2022\n",
            "Sunday,28-5-2022\n",
            "Sunday,4-5-2022\n",
            "Sunday,11-5-2022\n",
            "Sunday,18-5-2022\n",
            "Sunday,25-5-2022\n",
            "Sunday,2-5-2022\n",
            "Sunday,9-5-2022\n",
            "Sunday,16-5-2022\n",
            "Sunday,23-5-2022\n",
            "Sunday,30-5-2022\n",
            "Sunday,6-5-2022\n",
            "Sunday,13-5-2022\n",
            "Sunday,20-5-2022\n",
            "Sunday,27-5-2022\n",
            "Sunday,4-5-2022\n",
            "Sunday,11-5-2022\n",
            "Sunday,18-5-2022\n",
            "Sunday,25-5-2022\n"
          ]
        }
      ],
      "source": [
        "# write your answer here\n",
        "from datetime import date \n",
        "import calendar \n",
        "Year = 2022\n",
        "A = calendar.TextCalendar(calendar.SUNDAY) \n",
        "for i in range(1,13): \n",
        "    for k in A.itermonthdays(Year,i):\n",
        "        if k!=0:\n",
        "            day=date(Year,i,k)\n",
        "            if day.weekday()==6: #As there are 7days in a week ,index for sunday be 6,so only if it is 6 then we are setting the condition to print\n",
        "                print(\"%s,%d-%d-%d\" % (calendar.day_name[6] ,k,b,Year))"
      ]
    }
  ],
  "metadata": {
    "colab": {
      "collapsed_sections": [],
      "provenance": [],
      "include_colab_link": true
    },
    "kernelspec": {
      "display_name": "Python 3 (ipykernel)",
      "language": "python",
      "name": "python3"
    },
    "language_info": {
      "codemirror_mode": {
        "name": "ipython",
        "version": 3
      },
      "file_extension": ".py",
      "mimetype": "text/x-python",
      "name": "python",
      "nbconvert_exporter": "python",
      "pygments_lexer": "ipython3",
      "version": "3.9.12"
    }
  },
  "nbformat": 4,
  "nbformat_minor": 0
}